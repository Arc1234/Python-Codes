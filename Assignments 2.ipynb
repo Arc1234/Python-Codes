{
 "cells": [
  {
   "cell_type": "code",
   "execution_count": 16,
   "metadata": {},
   "outputs": [
    {
     "name": "stdout",
     "output_type": "stream",
     "text": [
      "The elements are:  [1, 4, 9, 16, 25, 36, 49, 64]\n"
     ]
    }
   ],
   "source": [
    "print(\"Square of elements stored\")\n",
    "list1 = [1,2,3,4,5,6,7,8]\n",
    "list2 = []\n",
    "num = None\n",
    "\n",
    "for i in list1:\n",
    "    num = i**2\n",
    "    list2.append(num)\n",
    "    i += 1\n",
    "    \n",
    "print(\"The elements are: \",list2)"
   ]
  },
  {
   "cell_type": "code",
   "execution_count": 6,
   "metadata": {},
   "outputs": [
    {
     "name": "stdout",
     "output_type": "stream",
     "text": [
      "The odd elements are:  [1, 3, 5, 7, 9, 11, 13, 15, 17, 19, 21, 23, 25, 27, 29]\n",
      "The even elements are:  [2, 4, 6, 8, 10, 12, 14, 16, 18, 20, 22, 24, 26, 28, 30]\n"
     ]
    }
   ],
   "source": [
    "print(\"Print Odd in 1st list and Even in 2nd list \")\n",
    "list1 = []\n",
    "list2 = []\n",
    "\n",
    "for i in range(1,31):\n",
    "    if i % 2 == 1:\n",
    "        list1.append(i)\n",
    "    elif i % 2 == 0:\n",
    "        list2.append(i)\n",
    "        \n",
    "print(\"The odd elements are: \",list1)\n",
    "print(\"The even elements are: \",list2)\n"
   ]
  },
  {
   "cell_type": "code",
   "execution_count": 10,
   "metadata": {},
   "outputs": [
    {
     "name": "stdout",
     "output_type": "stream",
     "text": [
      "The numbers divisible are:  [4, 6, 8, 8, 10, 12, 12, 16, 16, 18, 20, 20, 24, 24, 24, 28, 30, 30]\n",
      "The numbers divisible are:  [3, 5, 6, 7, 9, 9, 10, 12, 14, 15, 15, 18, 18, 20, 21, 21, 24, 25, 27, 27, 28, 30, 30]\n"
     ]
    }
   ],
   "source": [
    "print(\"Numbers divisible by 4,6,8,10,3,5,7,9\")\n",
    "\n",
    "list1 = [4,6,8,10]\n",
    "list2 = [3,5,7,9]\n",
    "list3 = []\n",
    "list4 = []\n",
    "for i in range(1,31):\n",
    "    for j in list1:\n",
    "        if i % j == 0:\n",
    "            list3.append(i)\n",
    "for l in range(1,31):\n",
    "    for k in list2:\n",
    "        if l % k == 0:\n",
    "            list4.append(l)        \n",
    "\n",
    "print(\"The numbers divisible are: \",list3)\n",
    "print(\"The numbers divisible are: \",list4)"
   ]
  },
  {
   "cell_type": "code",
   "execution_count": 15,
   "metadata": {},
   "outputs": [
    {
     "name": "stdout",
     "output_type": "stream",
     "text": [
      "The table of 12 is:  [12, 24, 36, 48, 60, 72, 84, 96, 108, 120]\n",
      "The table of 14 is:  [14, 28, 42, 56, 70, 84, 98, 112, 126, 140]\n"
     ]
    }
   ],
   "source": [
    "print(\"Printmultiplication table of 12 from a list in which multiplcation of 12 is stored\")\n",
    "\n",
    "list1 = [1,2,3,4,5,6,7,8,9,10]\n",
    "list2 = []\n",
    "list3 = []\n",
    "\n",
    "for i in list1:\n",
    "    num = i*12\n",
    "    list2.append(num)\n",
    "print(\"The table of 12 is: \",list2)\n",
    "\n",
    "m = 2\n",
    "l = len(list2)\n",
    "for j in list2: \n",
    "    k = j + m\n",
    "    list3.append(k)\n",
    "    m += 2\n",
    "print(\"The table of 14 is: \",list3)"
   ]
  },
  {
   "cell_type": "code",
   "execution_count": 27,
   "metadata": {},
   "outputs": [
    {
     "name": "stdout",
     "output_type": "stream",
     "text": [
      "Enter the number: 3\n",
      "Enter the number: 4\n",
      "Enter the number: 5\n",
      "Enter the number: 6\n",
      "Element to search for: 6\n",
      "The element not found\n",
      "The element not found\n",
      "The element not found\n",
      "The element 6 found\n",
      "The elements are:  ['3', '4', '5']\n"
     ]
    }
   ],
   "source": [
    "print(\"Search and delete element from the list\")\n",
    "list1 = [input(\"Enter the number: \"),input(\"Enter the number: \"),input(\"Enter the number: \"),input(\"Enter the number: \")]\n",
    "list2 = [input(\"Element to search for: \")]\n",
    "\n",
    "for i in list1:\n",
    "    for j in list2:\n",
    "        if i == j:\n",
    "            print(\"The element\",j, \"found\")\n",
    "            list1.remove(i)\n",
    "        else:\n",
    "            print(\"The element not found\")\n",
    "            break\n",
    "\n",
    "print(\"The elements are: \",list1)"
   ]
  },
  {
   "cell_type": "code",
   "execution_count": 30,
   "metadata": {},
   "outputs": [
    {
     "name": "stdout",
     "output_type": "stream",
     "text": [
      "The String elements are:  ['a', 'b', 'c']\n",
      "The Integer elements are:  [1, 2, 3]\n",
      "The Float elements are:  [9.0, 8.0, 9.0]\n"
     ]
    }
   ],
   "source": [
    "print(\"Store int,strings and floats in different lists\")\n",
    "\n",
    "list1 = [1,2,3,'a','b','c',9.0,8.0,9.0]\n",
    "list2 = []\n",
    "list3 = []\n",
    "list4 = []\n",
    "\n",
    "for i in list1:\n",
    "    if type(i) == str:\n",
    "        list2.append(i)\n",
    "    elif type(i) == int:\n",
    "        list3.append(i)\n",
    "    elif type(i) == float:\n",
    "        list4.append(i)\n",
    "    \n",
    "print(\"The String elements are: \",list2)\n",
    "print(\"The Integer elements are: \",list3)\n",
    "print(\"The Float elements are: \",list4)"
   ]
  },
  {
   "cell_type": "code",
   "execution_count": null,
   "metadata": {},
   "outputs": [],
   "source": []
  }
 ],
 "metadata": {
  "kernelspec": {
   "display_name": "Python 3",
   "language": "python",
   "name": "python3"
  },
  "language_info": {
   "codemirror_mode": {
    "name": "ipython",
    "version": 3
   },
   "file_extension": ".py",
   "mimetype": "text/x-python",
   "name": "python",
   "nbconvert_exporter": "python",
   "pygments_lexer": "ipython3",
   "version": "3.7.6"
  }
 },
 "nbformat": 4,
 "nbformat_minor": 4
}
