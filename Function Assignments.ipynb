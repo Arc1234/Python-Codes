{
 "cells": [
  {
   "cell_type": "code",
   "execution_count": 12,
   "metadata": {
    "scrolled": true
   },
   "outputs": [
    {
     "name": "stdout",
     "output_type": "stream",
     "text": [
      "Enter the length: 5\n",
      "Enter the breadth: 6\n",
      "Enter the height: 7\n",
      "The area of rectangle is:  210\n",
      "Enter the length: 5\n",
      "Enter the breadth: 6\n",
      "The perimeter of rectangle is:  22\n"
     ]
    }
   ],
   "source": [
    "def area(l,b,h):\n",
    "    a = l*b*h\n",
    "    print(\"The area of rectangle is: \",a)\n",
    "\n",
    "def perimeter(l,b):\n",
    "    p = 2*(l + b)\n",
    "    print(\"The perimeter of rectangle is: \",p)\n",
    "\n",
    "area(int(input(\"Enter the length: \")),int(input(\"Enter the breadth: \")),int(input(\"Enter the height: \")))\n",
    "\n",
    "perimeter(int(input(\"Enter the length: \")),int(input(\"Enter the breadth: \")))    "
   ]
  },
  {
   "cell_type": "code",
   "execution_count": 11,
   "metadata": {},
   "outputs": [
    {
     "name": "stdout",
     "output_type": "stream",
     "text": [
      "Enter the radius: 4\n",
      "The area of circle is:  50.24\n",
      "Enter the radius: 5\n",
      "The perimeter of circle is:  31.400000000000002\n"
     ]
    }
   ],
   "source": [
    "def area(r):\n",
    "    a = 3.14*r**2\n",
    "    print(\"The area of circle is: \",a)\n",
    "    \n",
    "def perimeter(r):\n",
    "    p = 2*3.14*r\n",
    "    print(\"The perimeter of circle is: \",p)\n",
    "    \n",
    "area(int(input(\"Enter the radius: \")))\n",
    "perimeter(int(input(\"Enter the radius: \")))"
   ]
  },
  {
   "cell_type": "code",
   "execution_count": 15,
   "metadata": {},
   "outputs": [
    {
     "name": "stdout",
     "output_type": "stream",
     "text": [
      "Enter the number: 2\n",
      "Enter the number: 3\n",
      "The result is:  8\n"
     ]
    }
   ],
   "source": [
    "def power(a,b):\n",
    "    m = a**b\n",
    "    print(\"The result is: \",m)\n",
    "    \n",
    "power(int(input(\"Enter the number: \")),int(input(\"Enter the number: \")))"
   ]
  },
  {
   "cell_type": "code",
   "execution_count": 2,
   "metadata": {},
   "outputs": [
    {
     "name": "stdout",
     "output_type": "stream",
     "text": [
      "Enter the number: 6\n",
      "6 is an even number\n"
     ]
    }
   ],
   "source": [
    "def oddoreven(n):\n",
    "    if (n % 2) == 1:\n",
    "        print(n,\"is an odd number\")\n",
    "    elif (n % 2) == 0:\n",
    "        print(n,\"is an even number\")\n",
    "        \n",
    "oddoreven(int(input(\"Enter the number: \")))\n"
   ]
  },
  {
   "cell_type": "code",
   "execution_count": 14,
   "metadata": {},
   "outputs": [
    {
     "name": "stdout",
     "output_type": "stream",
     "text": [
      "Enter the number: 5\n",
      "5 is a prime number\n"
     ]
    }
   ],
   "source": [
    "def primeornot(n):\n",
    "    for i in range(2,n):\n",
    "        if (n % i) == 0:\n",
    "            print(n,\"is not a prime number\")\n",
    "            break\n",
    "        else:\n",
    "            print(n,\"is a prime number\")\n",
    "            break\n",
    "            \n",
    "primeornot(int(input(\"Enter the number: \")))"
   ]
  },
  {
   "cell_type": "code",
   "execution_count": 4,
   "metadata": {},
   "outputs": [
    {
     "name": "stdout",
     "output_type": "stream",
     "text": [
      "Enter the age: 13\n",
      "She is not eligible to vote\n"
     ]
    }
   ],
   "source": [
    "def vote(n):\n",
    "    if n >= 18:\n",
    "        print(\"She is eligible to vote\")\n",
    "    else:\n",
    "        print(\"She is not eligible to vote\")\n",
    "        \n",
    "vote(int(input(\"Enter the age: \")))"
   ]
  },
  {
   "cell_type": "code",
   "execution_count": 9,
   "metadata": {
    "scrolled": true
   },
   "outputs": [
    {
     "name": "stdout",
     "output_type": "stream",
     "text": [
      "Enter the number: 5\n",
      "5 * 1 = 5\n",
      "5 * 2 = 10\n",
      "5 * 3 = 15\n",
      "5 * 4 = 20\n",
      "5 * 5 = 25\n",
      "5 * 6 = 30\n",
      "5 * 7 = 35\n",
      "5 * 8 = 40\n",
      "5 * 9 = 45\n",
      "5 * 10 = 50\n",
      "None\n"
     ]
    }
   ],
   "source": [
    "def mult(n,i):\n",
    "        if (i <= 10):\n",
    "            print(n,\"*\",i,\"=\",n * i)\n",
    "            mult(n,i + 1)\n",
    "\n",
    "print(mult(int(input(\"Enter the number: \")),1))"
   ]
  },
  {
   "cell_type": "code",
   "execution_count": 12,
   "metadata": {},
   "outputs": [
    {
     "name": "stdout",
     "output_type": "stream",
     "text": [
      "Enter the number: 12\n",
      "12 is not a perfect number\n"
     ]
    }
   ],
   "source": [
    "def perfect(n):\n",
    "    sum = 0 \n",
    "    for i in range(1,n):\n",
    "        if (n % i) == 0:\n",
    "            sum = sum + i\n",
    "    \n",
    "    if sum == n:\n",
    "        print(n,\"is a perfect number\")\n",
    "    else:\n",
    "        print(n,\"is not a perfect number\")\n",
    "        \n",
    "            \n",
    "perfect(int(input(\"Enter the number: \")))"
   ]
  },
  {
   "cell_type": "code",
   "execution_count": 13,
   "metadata": {
    "scrolled": true
   },
   "outputs": [
    {
     "name": "stdout",
     "output_type": "stream",
     "text": [
      "1 is not a perfect number\n",
      "2 is not a perfect number\n",
      "3 is not a perfect number\n",
      "4 is not a perfect number\n",
      "5 is not a perfect number\n",
      "6 is a perfect number\n",
      "7 is not a perfect number\n",
      "8 is not a perfect number\n",
      "9 is not a perfect number\n",
      "10 is not a perfect number\n",
      "11 is not a perfect number\n",
      "12 is not a perfect number\n",
      "13 is not a perfect number\n",
      "14 is not a perfect number\n",
      "15 is not a perfect number\n",
      "16 is not a perfect number\n",
      "17 is not a perfect number\n",
      "18 is not a perfect number\n",
      "19 is not a perfect number\n",
      "20 is not a perfect number\n",
      "21 is not a perfect number\n",
      "22 is not a perfect number\n",
      "23 is not a perfect number\n",
      "24 is not a perfect number\n",
      "25 is not a perfect number\n",
      "26 is not a perfect number\n",
      "27 is not a perfect number\n",
      "28 is a perfect number\n",
      "29 is not a perfect number\n",
      "30 is not a perfect number\n",
      "31 is not a perfect number\n",
      "32 is not a perfect number\n",
      "33 is not a perfect number\n",
      "34 is not a perfect number\n",
      "35 is not a perfect number\n",
      "36 is not a perfect number\n",
      "37 is not a perfect number\n",
      "38 is not a perfect number\n",
      "39 is not a perfect number\n",
      "40 is not a perfect number\n",
      "41 is not a perfect number\n",
      "42 is not a perfect number\n",
      "43 is not a perfect number\n",
      "44 is not a perfect number\n",
      "45 is not a perfect number\n",
      "46 is not a perfect number\n",
      "47 is not a perfect number\n",
      "48 is not a perfect number\n",
      "49 is not a perfect number\n"
     ]
    }
   ],
   "source": [
    "for i in range(1,50):\n",
    "        perfect(i)"
   ]
  },
  {
   "cell_type": "code",
   "execution_count": null,
   "metadata": {},
   "outputs": [],
   "source": [
    "print(\"Recursion method but need to use static global variables\")\n",
    "def factorial(n):\n",
    "    c = 1\n",
    "    fact = 1\n",
    "    while n > 0:\n",
    "        fact = fact * c\n",
    "        c += 1\n",
    "        factorial(n - 1)\n",
    "    \n",
    "    print(\"The factorial of\",n,\"is: \",fact)\n",
    "        \n",
    "factorial(int(input(\"Enter the number: \")))\n",
    "        \n",
    "        \n",
    "    "
   ]
  },
  {
   "cell_type": "code",
   "execution_count": 1,
   "metadata": {},
   "outputs": [
    {
     "name": "stdout",
     "output_type": "stream",
     "text": [
      "Enter the number: 5\n",
      "The Factorial of 5 is 120\n",
      "The factorial is:  [None]\n"
     ]
    }
   ],
   "source": [
    "t1 = []\n",
    "def fact(n):\n",
    "    c = 1\n",
    "    fact = 1\n",
    "    for i in range(1,n + 1):\n",
    "        fact = fact * i\n",
    "        \n",
    "    print(\"The Factorial of\",n,\"is\",fact)\n",
    "\n",
    "t1.append(fact(int(input(\"Enter the number: \"))))\n",
    "\n",
    "print(\"The factorial is: \",t1)\n",
    "        "
   ]
  },
  {
   "cell_type": "code",
   "execution_count": null,
   "metadata": {},
   "outputs": [],
   "source": []
  }
 ],
 "metadata": {
  "kernelspec": {
   "display_name": "Python 3",
   "language": "python",
   "name": "python3"
  }
 },
 "nbformat": 4,
 "nbformat_minor": 4
}
