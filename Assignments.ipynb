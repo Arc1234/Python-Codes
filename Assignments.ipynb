{
 "cells": [
  {
   "cell_type": "code",
   "execution_count": 52,
   "metadata": {},
   "outputs": [
    {
     "name": "stdout",
     "output_type": "stream",
     "text": [
      "Factorial of a number\n",
      "\n",
      "Enter the number:100\n",
      "The Factorial is 93326215443944152681699238856266700490715968264381621468592963895217599993229915608941463976156518286253697920827223758251185210916864000000000000000000000000 "
     ]
    }
   ],
   "source": [
    "print(\"Factorial of a number\\n\")\n",
    "\n",
    "num = int(input(\"Enter the number:\"))\n",
    "c = 1\n",
    "fact = 1\n",
    "while num > 0:\n",
    "    fact *= c\n",
    "    c += 1\n",
    "    num -= 1\n",
    "    \n",
    "print(\"The Factorial is\",fact,end = \" \")\n"
   ]
  },
  {
   "cell_type": "code",
   "execution_count": 15,
   "metadata": {},
   "outputs": [
    {
     "name": "stdout",
     "output_type": "stream",
     "text": [
      "Enter the number: 10\n",
      "10 is not a prime number\n"
     ]
    }
   ],
   "source": [
    "print(\"Prime Number \\n\")\n",
    "\n",
    "num = int(input(\"Enter the number: \"))\n",
    "p = 0\n",
    "if num > 1:\n",
    "    for i in range(2,num):\n",
    "        if (num % i) == 0:\n",
    "            print(num,\"is not a prime number\")\n",
    "            break\n",
    "    else:\n",
    "        print(num,\"is a prime number\")\n",
    "        \n",
    "else:\n",
    "    print(num,\"is not a prime number\")\n",
    "        "
   ]
  },
  {
   "cell_type": "code",
   "execution_count": 55,
   "metadata": {},
   "outputs": [
    {
     "name": "stdout",
     "output_type": "stream",
     "text": [
      "Fibonacci Series for N terms\n",
      "\n",
      "Enter the number: 10\n",
      "0\n",
      "1\n",
      "1\n",
      "2\n",
      "3\n",
      "5\n",
      "8\n",
      "13\n",
      "21\n",
      "34\n"
     ]
    }
   ],
   "source": [
    "print(\"Fibonacci Series for N terms\\n\")\n",
    "\n",
    "num = int(input(\"Enter the number: \"))\n",
    "t1 = 0\n",
    "t2 = 1\n",
    "nextterm = None\n",
    "for i in range(1,num + 1):\n",
    "    print(t1)\n",
    "    nextterm = t1 + t2\n",
    "    t1 = t2\n",
    "    t2 = nextterm\n",
    "    "
   ]
  },
  {
   "cell_type": "code",
   "execution_count": 53,
   "metadata": {},
   "outputs": [
    {
     "name": "stdout",
     "output_type": "stream",
     "text": [
      "Fibonacci Series upto a particular number\n",
      "\n",
      "Enter the number: 5\n",
      "0\n",
      "1\n",
      "1\n",
      "2\n",
      "3\n",
      "5\n"
     ]
    }
   ],
   "source": [
    "print(\"Fibonacci Series upto a particular number\\n\")\n",
    "num = int(input(\"Enter the number: \"))\n",
    "t1 = 0\n",
    "t2 = 1\n",
    "nextterm = None\n",
    "print(t1)\n",
    "print(t2)\n",
    "nextterm = t1 + t2\n",
    "while nextterm <= num:\n",
    "    print(nextterm)\n",
    "    t1 = t2\n",
    "    t2 = nextterm\n",
    "    nextterm = t1 + t2"
   ]
  },
  {
   "cell_type": "code",
   "execution_count": 31,
   "metadata": {},
   "outputs": [
    {
     "name": "stdout",
     "output_type": "stream",
     "text": [
      "Enter the number: 153\n",
      "153 is an Armstrong number\n"
     ]
    }
   ],
   "source": [
    "print(\"Armstrong Number\\n\")\n",
    "\n",
    "num = int(input(\"Enter the number: \"))\n",
    "c = 0\n",
    "temp = num\n",
    "while temp > 0:\n",
    "    mod = temp % 10\n",
    "    c += mod**3\n",
    "    temp //= 10\n",
    "    \n",
    "if c == num:\n",
    "    print(num,\"is an Armstrong number\")\n",
    "else:\n",
    "    print(num,\"is not an Armstrong number\")\n",
    "          "
   ]
  },
  {
   "cell_type": "code",
   "execution_count": 56,
   "metadata": {},
   "outputs": [
    {
     "name": "stdout",
     "output_type": "stream",
     "text": [
      "Sum of Squares of N Natural Numbers\n",
      "\n",
      "Enter the number: 5\n",
      "The sum is: 55\n"
     ]
    }
   ],
   "source": [
    "print(\"Sum of Squares of N Natural Numbers\\n\")\n",
    "\n",
    "num = int(input(\"Enter the number: \"))\n",
    "d = 0\n",
    "c = 1\n",
    "while c <= num:\n",
    "    d += c**2\n",
    "    c += 1\n",
    "\n",
    "print(\"The sum is:\",d)\n",
    "    "
   ]
  },
  {
   "cell_type": "code",
   "execution_count": 57,
   "metadata": {},
   "outputs": [
    {
     "name": "stdout",
     "output_type": "stream",
     "text": [
      "Sum of Cubes of N Natural Numbers\n",
      "\n",
      "Enter the number: 4\n",
      "The sum is: 100\n"
     ]
    }
   ],
   "source": [
    "print(\"Sum of Cubes of N Natural Numbers\\n\")\n",
    "\n",
    "num = int(input(\"Enter the number: \"))\n",
    "d = 0\n",
    "c = 1\n",
    "while c <= num:\n",
    "    d += c**3\n",
    "    c += 1\n",
    "    \n",
    "print(\"The sum is:\",d)"
   ]
  },
  {
   "cell_type": "code",
   "execution_count": 42,
   "metadata": {},
   "outputs": [
    {
     "name": "stdout",
     "output_type": "stream",
     "text": [
      "Enter the Principal: 1000\n",
      "Enter the Rate: 12.5\n",
      "Enter the time: 3\n",
      "The Simple Interest is:  375.0\n"
     ]
    }
   ],
   "source": [
    "print(\"Simple Interest\\n\")\n",
    "\n",
    "p = int(input(\"Enter the Principal: \"))\n",
    "r = float(input(\"Enter the Rate: \"))\n",
    "t = int(input(\"Enter the time: \"))\n",
    "simpleinterest = None\n",
    "res = None\n",
    "\n",
    "simpleinterest = p * r * t\n",
    "res = simpleinterest/100\n",
    "\n",
    "print(\"The Simple Interest is: \",res)\n"
   ]
  },
  {
   "cell_type": "code",
   "execution_count": 12,
   "metadata": {},
   "outputs": [
    {
     "name": "stdout",
     "output_type": "stream",
     "text": [
      "Enter the Principal: 4000\n",
      "Enter the Rate: 4.5\n",
      "No. of periods: 5\n",
      "The Compound Interest is:  20127375.0\n"
     ]
    }
   ],
   "source": [
    "print(\"Compund Interest\\n\")\n",
    "\n",
    "p = int(input(\"Enter the Principal: \"))\n",
    "i = float(input(\"Enter the Rate: \"))\n",
    "t = int(input(\"No. of periods: \"))\n",
    "cominterest = None\n",
    "res = None\n",
    "\n",
    "cominterest = p*(1 + i)**t\n",
    "res = cominterest - p\n",
    "\n",
    "print(\"The Compound Interest is: \",res)"
   ]
  },
  {
   "cell_type": "code",
   "execution_count": 46,
   "metadata": {},
   "outputs": [
    {
     "name": "stdout",
     "output_type": "stream",
     "text": [
      "Enter the number: 5\n",
      "Enter the number: 10\n",
      "The prime numbers that are:  5\n",
      "The prime numbers that are not are:  6\n",
      "The prime numbers that are:  7\n",
      "The prime numbers that are not are:  8\n",
      "The prime numbers that are:  9\n",
      "The prime numbers that are not are:  10\n"
     ]
    }
   ],
   "source": [
    "print(\"Prime Numbers in an Interval\\n\")\n",
    "\n",
    "start = int(input(\"Enter the number: \"))\n",
    "end = int(input(\"Enter the number: \"))\n",
    "for i in range(start,end + 1):\n",
    "    if i > 1:\n",
    "         for j in range(2,end):\n",
    "            if (i % j) == 0:\n",
    "                print(\"The prime numbers that are not are: \",i)\n",
    "                break\n",
    "            else:\n",
    "                print(\"The prime numbers that are: \",i)\n",
    "                break\n"
   ]
  },
  {
   "cell_type": "code",
   "execution_count": 48,
   "metadata": {},
   "outputs": [
    {
     "name": "stdout",
     "output_type": "stream",
     "text": [
      "Enter the first number: 3\n",
      "Enter the second number: 4\n",
      "The result is: 7\n"
     ]
    }
   ],
   "source": [
    "print(\"Sum of two numbers\\n\")\n",
    "\n",
    "m = int(input(\"Enter the first number: \"))\n",
    "y = int(input(\"Enter the second number: \"))\n",
    "j = m + y\n",
    "print(\"The result is:\",j)\n"
   ]
  },
  {
   "cell_type": "code",
   "execution_count": 58,
   "metadata": {},
   "outputs": [
    {
     "name": "stdout",
     "output_type": "stream",
     "text": [
      "Area of a Circle\n",
      "\n",
      "Enter the radius: 4\n",
      "The result is: : 50.24\n"
     ]
    }
   ],
   "source": [
    "print(\"Area of a Circle\\n\")\n",
    "\n",
    "m = int(input(\"Enter the radius: \"))\n",
    "j = 3.14*m*m\n",
    "print(\"The result is: :\",j)"
   ]
  },
  {
   "cell_type": "code",
   "execution_count": 61,
   "metadata": {},
   "outputs": [
    {
     "name": "stdout",
     "output_type": "stream",
     "text": [
      "The ASCII value of a character\n",
      "\n",
      "Enter the character: D\n",
      "The ASCII value is:  68\n"
     ]
    }
   ],
   "source": [
    "print(\"The ASCII value of a character\\n\")\n",
    "\n",
    "char = input(str(\"Enter the character: \"))\n",
    "print(\"The ASCII value is: \",ord(char))"
   ]
  },
  {
   "cell_type": "code",
   "execution_count": null,
   "metadata": {},
   "outputs": [],
   "source": []
  }
 ],
 "metadata": {
  "kernelspec": {
   "display_name": "Python 3",
   "language": "python",
   "name": "python3"
  },
  "language_info": {
   "codemirror_mode": {
    "name": "ipython",
    "version": 3
   },
   "file_extension": ".py",
   "mimetype": "text/x-python",
   "name": "python",
   "nbconvert_exporter": "python",
   "pygments_lexer": "ipython3",
   "version": "3.7.6"
  }
 },
 "nbformat": 4,
 "nbformat_minor": 4
}
